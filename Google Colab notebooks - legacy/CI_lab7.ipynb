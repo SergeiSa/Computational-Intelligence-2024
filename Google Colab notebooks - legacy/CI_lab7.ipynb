{
  "nbformat": 4,
  "nbformat_minor": 0,
  "metadata": {
    "colab": {
      "provenance": []
    },
    "kernelspec": {
      "name": "python3",
      "display_name": "Python 3"
    },
    "language_info": {
      "name": "python"
    }
  },
  "cells": [
    {
      "cell_type": "markdown",
      "source": [
        "#**SDP**\n",
        "\n",
        "Consider a discrete-time system $\\mathbf{\\dot{x}}(k+1) = \\mathbf{A}\\mathbf{x}(k) + \\mathbf{B}\\mathbf{u}(k)$\n",
        "We need to find a state feedback controller of the form\n",
        "\\begin{equation}\n",
        "\\mathbf{u}(k) = \\mathbf{K}\\mathbf{x}(k)\n",
        "\\end{equation}\n",
        "such that the closed-loop system namely\n",
        "\\begin{equation}\n",
        "\\begin{gathered}\n",
        "\\mathbf{\\dot{x}}(k+1) = \\mathbf{(A+BK)}\\mathbf{x}(k)\n",
        "\\end{gathered}\n",
        "\\end{equation} is Schur stable."
      ],
      "metadata": {
        "id": "UlXPVvpMlPXR"
      }
    },
    {
      "cell_type": "code",
      "source": [
        "import numpy as np\n",
        "import cvxpy as cp\n",
        "\n",
        "size_x = 4\n",
        "size_u = 2\n",
        "\n",
        "# A = np.array([[0, 0, 1, 0], [0, 0, 0, 1], [-0.5, 0, -2.5, 1], [0, -0.5, 1, -2]])\n",
        "# B = np.array([[0, 0], [0, 0], [1, 0], [0, 1]])\n",
        "\n",
        "A = np.random.randn(size_x, size_x) - 1*np.eye(size_x)\n",
        "B = 0.3*np.random.randn(size_x, size_u)\n",
        "\n",
        "Q = cp.Variable((size_x, size_x), symmetric=True)\n",
        "L = cp.Variable((size_u, size_x))\n",
        "\n",
        "LMI = cp.bmat([[Q, A@Q+B@L],\n",
        "               [(A@Q+B@L).T , Q]])\n",
        "\n",
        "constraints = [Q >> 0.0001, LMI >> 0.0001]\n",
        "prob = cp.Problem(cp.Minimize(0), constraints=constraints)\n",
        "\n",
        "result = prob.solve(verbose=False)\n",
        "\n",
        "if result < 1:\n",
        "    K = L.value @ np.linalg.pinv(Q.value)\n",
        "    print(\"State feedback controller gain(K):\")\n",
        "    print(K)\n",
        "else:\n",
        "    print(\"no solution\")"
      ],
      "metadata": {
        "colab": {
          "base_uri": "https://localhost:8080/"
        },
        "id": "ugxTnz8I2w6h",
        "outputId": "cde7c478-801f-41ba-a60f-5d1f12f77573"
      },
      "execution_count": null,
      "outputs": [
        {
          "output_type": "stream",
          "name": "stdout",
          "text": [
            "State feedback controller gain(K):\n",
            "[[ 5.68389981  1.37177496 -5.21860246 -0.27353457]\n",
            " [ 1.4357313  -1.148884    1.40160807  5.84745791]]\n"
          ]
        }
      ]
    },
    {
      "cell_type": "markdown",
      "source": [
        "#**Task 2**\n",
        "How can you estimate the maximum volume that encloses an inscribed ellipsoid of convex hull?\n",
        "Let's say you are given a set of inequalities that describes by a polytope:\n",
        "\n",
        "\\begin{equation}\n",
        "    P = \\{ x \\in \\mathbb{R}^n \\; a_i^Tx \\leq b_i, \\; i=1,...,m\\}\n",
        "\\end{equation} So intention is to find inscribed ellipsoid with maximum volume. Let $\\varepsilon$ be the ellipsoid that is to be estimated:\n",
        "\\begin{equation}\n",
        "    \\varepsilon = \\{x \\; | \\; x = By + d, y \\in \\mathbb{R}^n, \\left \\| y \\right \\|_2 \\leq 1, \\; B= B^T \\succ 0\\}.\n",
        "\\end{equation} In order to maximize the volume, the condition $\\varepsilon \\subseteq P$ should be satisfied; this condition can be formed as the following way as a set of inequalities:\n",
        "\\begin{equation}\n",
        "  \\left \\| Ba_i \\right \\| + a_i^Td \\leq b_i, \\; i=0,...,m\n",
        "\\end{equation}\n",
        "\n",
        "Now we are ready to find the inscribed ellipsoid.\n",
        "\\begin{equation}\n",
        "\\begin{aligned}\n",
        "\\min_{B,d} \\quad & -log det(B)\\\\\n",
        "\\textrm{s.t.} \\quad &\\left \\| Ba_i \\right \\| + a_i^Td \\leq b_i, \\; i=0,...,m \\\\\n",
        "  & B \\succeq 0\\\\\n",
        "\\end{aligned}\n",
        "\\end{equation}\n"
      ],
      "metadata": {
        "id": "7IGTaxXZRVUG"
      }
    },
    {
      "cell_type": "code",
      "source": [],
      "metadata": {
        "id": "lEp1mXT7NqEY"
      },
      "execution_count": null,
      "outputs": []
    }
  ]
}