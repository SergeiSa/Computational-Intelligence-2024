{
  "nbformat": 4,
  "nbformat_minor": 0,
  "metadata": {
    "colab": {
      "provenance": []
    },
    "kernelspec": {
      "name": "python3",
      "display_name": "Python 3"
    },
    "language_info": {
      "name": "python"
    }
  },
  "cells": [
    {
      "cell_type": "markdown",
      "source": [
        "#**Minimax**\n",
        "A minimax problem seeks to minimize the maximum value of a number of decision variables. It is sometimes applied to minimize the possible loss for a worst case (maximum loss) scenario. A maximin problem maximizes the minimum value. It is used to maximize the minimum objective (such as profit or revenue) for all potential scenarios.\n",
        "\n",
        "**Example**\n",
        "We want to minimize the maximum of 3 variables and the sum of those variables must add up to 15:\n",
        "\\begin{equation}\n",
        "\\begin{aligned}\n",
        "\\min \\quad & \\max(x_1, x_2, x_3)\\\\\n",
        "\\textrm{s.t.} \\quad & x_1+x_2+x_3=15\n",
        "\\end{aligned}\n",
        "\\end{equation}\n",
        "\n",
        "The minimax problem is transformed for efficient solution by gradient-based optimization solvers that require continuous first and second derivatives. Posing the problem in this way allows rapid convergence to a solution. The minimax problem can be alternatively expressed by minimizing an additional variable $Z$ that is an upper bound for each of the individual variables $(x_1, x_2$, and $x_3)$.\n",
        "\n",
        "\\begin{equation}\n",
        "\\begin{aligned}\n",
        "\\min \\quad & Z\\\\\n",
        "\\textrm{s.t.} \\quad & x_1+x_2+x_3=15\\\\\n",
        "& Z \\geq x_1\\\\\n",
        "& Z \\geq x_2\\\\\n",
        "& Z \\geq x_3\n",
        "\\end{aligned}\n",
        "\\end{equation}"
      ],
      "metadata": {
        "id": "UlXPVvpMlPXR"
      }
    },
    {
      "cell_type": "code",
      "source": [
        "import numpy as np\n",
        "import cvxpy as cp\n",
        "\n",
        "x1 = cp.Variable(1, integer=True)\n",
        "x2 = cp.Variable(1, integer=True)\n",
        "x3 = cp.Variable(1, integer=True)\n",
        "Z = cp.Variable(1)\n",
        "\n",
        "constr = [x1+x2+x3 == 16, Z >= x1, Z >= x2, Z >= x3]\n",
        "problem = cp.Problem(cp.Minimize(Z), constr)\n",
        "problem.solve()\n",
        "print(x1.value, x2.value, x3.value, Z.value)"
      ],
      "metadata": {
        "colab": {
          "base_uri": "https://localhost:8080/"
        },
        "id": "szYpuILvPHqR",
        "outputId": "44d3bb6b-631f-421f-f737-0aaafbb2716f"
      },
      "execution_count": null,
      "outputs": [
        {
          "output_type": "stream",
          "name": "stdout",
          "text": [
            "[6.] [5.] [5.] [6.]\n"
          ]
        }
      ]
    },
    {
      "cell_type": "code",
      "source": [],
      "metadata": {
        "id": "dJ4zVhuxRS0B"
      },
      "execution_count": null,
      "outputs": []
    }
  ]
}