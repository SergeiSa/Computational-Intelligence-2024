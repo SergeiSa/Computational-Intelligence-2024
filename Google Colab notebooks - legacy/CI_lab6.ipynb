{
  "nbformat": 4,
  "nbformat_minor": 0,
  "metadata": {
    "colab": {
      "provenance": []
    },
    "kernelspec": {
      "name": "python3",
      "display_name": "Python 3"
    },
    "language_info": {
      "name": "python"
    }
  },
  "cells": [
    {
      "cell_type": "markdown",
      "source": [
        "#**Task 1**\n",
        "\n",
        "Use the Schur complement to write the nonlinear matrix constraint $𝑌 ≽ 𝐴𝑋^T𝑋𝐴 + 𝐵𝑋$ as an LMI. The matrices 𝑋 and 𝑌 are variables and matrices 𝐴 and 𝐵 are constant and symmetric."
      ],
      "metadata": {
        "id": "UlXPVvpMlPXR"
      }
    },
    {
      "cell_type": "code",
      "source": [
        "import numpy as np\n",
        "import cvxpy as cp\n",
        "\n",
        "size_x = 3\n",
        "\n",
        "A = np.array([[1, 2, 3], [2, 4, 1], [3, 1, 1]])\n",
        "B = np.array([[-2, 3, 1], [3, 1, 2], [1, 2, -4]])\n",
        "\n",
        "X = cp.Variable((size_x, size_x), symmetric=True)\n",
        "Y = cp.Variable((size_x, size_x), symmetric=True)\n",
        "\n",
        "LMI = cp.bmat([[Y - B @ X, A.T @ X.T],\n",
        "               [X @ A, np.eye(size_x)]])\n",
        "\n",
        "constraints = [LMI >> 0.0001]\n",
        "prob = cp.Problem(cp.Minimize(0), constraints=constraints)\n",
        "\n",
        "result = prob.solve(verbose=False)\n",
        "\n",
        "if result < 1:\n",
        "    print(\"X:\")\n",
        "    print(X.value)\n",
        "    print(\"Y:\")\n",
        "    print(Y.value)\n",
        "else:\n",
        "    print(\"no solution\")"
      ],
      "metadata": {
        "colab": {
          "base_uri": "https://localhost:8080/"
        },
        "id": "ugxTnz8I2w6h",
        "outputId": "4619ad8d-11da-475d-a59d-8429a32e9f91"
      },
      "execution_count": null,
      "outputs": [
        {
          "output_type": "stream",
          "name": "stdout",
          "text": [
            "X:\n",
            "[[1.83048804e-05 1.52627864e-05 1.81639911e-05]\n",
            " [1.52627864e-05 1.61727934e-05 1.47225601e-05]\n",
            " [1.81639911e-05 1.47225601e-05 1.75215943e-05]]\n",
            "Y:\n",
            "[[1.27344962e-04 1.69613101e-04 1.00769990e-04]\n",
            " [1.69613101e-04 1.91410965e-04 1.46488629e-04]\n",
            " [1.00769990e-04 1.46488629e-04 7.75265528e-05]]\n"
          ]
        }
      ]
    },
    {
      "cell_type": "markdown",
      "source": [
        "#**Task 2**\n",
        "In a certain design problem a symmetric and positive semidefinite matrix $\\mathbf{A}$ must be expressed as a linear combination of three base matrices according to:\n",
        "\\begin{equation}\n",
        "\\mathbf{A(x)}=\n",
        "x_1\\begin{bmatrix} 1 & 0 &2\\\\0 &-1&0\\\\2&0&3\\end{bmatrix}+x_2\n",
        "\\begin{bmatrix} 4 & 0 & 3\\\\0 & 2&1\\\\3&1&4\\end{bmatrix}+x_3\n",
        "\\begin{bmatrix} 0 & 2 & 1\\\\2 & -3&3\\\\1&3&-4\\end{bmatrix}\n",
        "\\end{equation}\n",
        "The matrix $\\mathbf{A}$ should be normalized in all cases so that the trace of $\\mathbf{A}$ equals 1.\n",
        ">Find matrix $\\mathbf{A}$ with smallest maximal eigenvalue.\n",
        "\n",
        ">Find matrix $\\mathbf{A}$ with largest minimal eigenvalue.\n",
        "\n",
        "> Find matrix $\\mathbf{A}$ with minimal eigenvalue spread 𝜆𝑚𝑎𝑥(𝐴) − 𝜆𝑚𝑖𝑛(𝐴)."
      ],
      "metadata": {
        "id": "-5cT8bUJk0FO"
      }
    },
    {
      "cell_type": "code",
      "source": [
        "A1 = np.array([[1, 0, 2], [0, -1, 0], [2, 0, 3]])\n",
        "A2 = np.array([[4, 0, 3], [0, 2, 1], [3, 1, 4]])\n",
        "A3 = np.array([[0, 2, 1], [2, -3, 3], [1, 3, -4]])\n",
        "\n",
        "x = cp.Variable(3)\n",
        "A = cp.Variable((3,3), symmetric=True)\n",
        "\n",
        "constraints1 = [A==x[0]*A1+x[1]*A2+x[2]*A3, cp.trace(A)==1, A >> 0.000001]\n",
        "prob1 = cp.Problem(cp.Minimize(cp.lambda_max(A)), constraints=constraints1)\n",
        "\n",
        "result = prob1.solve(verbose=False)\n",
        "# print(A.value)\n",
        "e1, _ = np.linalg.eig(A.value)\n",
        "print(e1)"
      ],
      "metadata": {
        "colab": {
          "base_uri": "https://localhost:8080/"
        },
        "id": "lEp1mXT7NqEY",
        "outputId": "1c3c3ad2-f41c-4927-a25b-b6c1a047c2d0"
      },
      "execution_count": null,
      "outputs": [
        {
          "output_type": "stream",
          "name": "stdout",
          "text": [
            "[0.13071346 0.43466008 0.43462646]\n"
          ]
        }
      ]
    },
    {
      "cell_type": "code",
      "source": [
        "constraints2 = [A==x[0]*A1+x[1]*A2+x[2]*A3, cp.trace(A)==1, A >> 0.000001]\n",
        "prob2 = cp.Problem(cp.Minimize(-cp.lambda_min(A)), constraints=constraints2)\n",
        "\n",
        "result = prob2.solve(verbose=False)\n",
        "print(A.value)\n",
        "e2, _ = np.linalg.eig(A.value)\n",
        "print(e2)"
      ],
      "metadata": {
        "colab": {
          "base_uri": "https://localhost:8080/"
        },
        "id": "SKcrCp2UTCNP",
        "outputId": "377fff8e-dd66-4758-c63e-b96304a1f700"
      },
      "execution_count": null,
      "outputs": [
        {
          "output_type": "stream",
          "name": "stdout",
          "text": [
            "[[ 0.28539889 -0.09829878  0.02104241]\n",
            " [-0.09829878  0.46277645 -0.04732697]\n",
            " [ 0.02104241 -0.04732697  0.25182465]]\n",
            "[0.51661353 0.24169291 0.24169356]\n"
          ]
        }
      ]
    },
    {
      "cell_type": "code",
      "source": [
        "constraints3 = [A==x[0]*A1+x[1]*A2+x[2]*A3, cp.trace(A)==1, A >> 0.000001]\n",
        "prob3 = cp.Problem(cp.Minimize(cp.lambda_max(A)-cp.lambda_min(A)), constraints=constraints3)\n",
        "\n",
        "result = prob3.solve(verbose=False)\n",
        "print(A.value)\n",
        "e3, _ = np.linalg.eig(A.value)\n",
        "print(e3)"
      ],
      "metadata": {
        "colab": {
          "base_uri": "https://localhost:8080/"
        },
        "id": "DBfAgX3DTC0j",
        "outputId": "0a682ce7-5110-4ac5-c579-ef3959dbe366"
      },
      "execution_count": null,
      "outputs": [
        {
          "output_type": "stream",
          "name": "stdout",
          "text": [
            "[[ 0.3093802  -0.07748647  0.08165873]\n",
            " [-0.07748647  0.40487967 -0.016558  ]\n",
            " [ 0.08165873 -0.016558    0.28574012]]\n",
            "[0.46646536 0.20649927 0.32703537]\n"
          ]
        }
      ]
    },
    {
      "cell_type": "code",
      "source": [],
      "metadata": {
        "id": "Bxbl7PGdTKIX"
      },
      "execution_count": null,
      "outputs": []
    }
  ]
}