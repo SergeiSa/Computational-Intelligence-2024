{
  "nbformat": 4,
  "nbformat_minor": 0,
  "metadata": {
    "colab": {
      "provenance": []
    },
    "kernelspec": {
      "name": "python3",
      "display_name": "Python 3"
    },
    "language_info": {
      "name": "python"
    }
  },
  "cells": [
    {
      "cell_type": "markdown",
      "source": [
        "#**Polyhedron representation**\n",
        "\n",
        "A convex polytope is a special case of a polytope, having the additional property that it is also a convex set contained in the $n$-dimensional Euclidean space $\\mathbb {R}^{n}$.\n",
        "\n",
        "> A convex polytope may be defined as an intersection of a finite number of half-spaces. Such definition is called a half-space representation ($H$-representation or $H$-description). This can be concisely written as the matrix inequality:\n",
        "\\begin{equation}\n",
        "A x \\leq b\n",
        "\\end{equation}\n",
        "where $A$ is an $m\\times n$ matrix, $x$ is an ${\\displaystyle n\\times 1}$ column vector whose coordinates are the variables $x_{1}$ to $x_{n}$, and $b$ is an ${\\displaystyle m\\times 1}$ column vector whose coordinates are the right-hand sides $b_{1}$ to $b_{m}$ of the scalar inequalities.\n",
        "\n",
        ">A convex polytope may be defined as the convex hull of its vertices + the conic hull of its rays where '+' is the Minkowski sum. This is equivalent to defining a bounded convex polytope as the convex hull of a finite set of points, where the finite set must contain the set of extreme points of the polytope. This representation is called $V$-representation and can be written\n",
        "\\begin{equation}\n",
        "x=conv(V)+coni(R)\n",
        "\\end{equation}\n",
        "where $conv$ denotes the convex hull of a set of vertices $V=\\{v_1, ... ,v_p\\}$:\n",
        "\\begin{equation}\n",
        "conv(V) = \\Bigl\\{ \\sum_{i=1}^{p} α_i v_i \\quad \\textrm{s.t.} \\quad \\forall i, \\alpha_i \\geq 0, \\sum_{i=1}^{p} α_i =1 \\Bigr\\}\n",
        "\\end{equation}\n",
        "while $coni$ is the conical hull os a set of rays $R=\\{r_1,...,r_q\\}$:\n",
        "\\begin{equation}\n",
        "coni(R) = \\Bigl\\{ \\sum_{j=1}^{q} \\lambda_i r_i \\quad \\textrm{s.t.} \\quad \\forall j, \\lambda_i \\geq 0 \\Bigr\\}\n",
        "\\end{equation}\n",
        "\n",
        "**Example**\n",
        "\n",
        "$H$-representation\n",
        "\\begin{equation}\n",
        "\\begin{aligned}\n",
        "\\begin{bmatrix} 0 & 1 \\\\ 5 & -2\\\\ -1 & -3\\\\-4 & -2 \\end{bmatrix}\n",
        "\\begin{bmatrix} x\\\\y \\end{bmatrix} \\leq\n",
        "\\begin{bmatrix} 7 \\\\ 36 \\\\ -14 \\\\ -26 \\end{bmatrix}\n",
        "\\end{aligned}\n",
        "\\end{equation}\n",
        "\n",
        "$V$-representation\n",
        "\\begin{equation}\n",
        "V=\\{(3,7),(10,7),(8,2),(5,3)\\}\n",
        "\\end{equation}\n",
        "\n",
        "*Theorem (Minkowski and Weyl)*: any polyhedron can be equivalently described in halfspace or vertex representation. That is, for any set\n",
        "$P = \\{ x \\, | \\, A x \\leq b\\}$, there exists two sets $V$ and $R$ such that $P=conv(V)+coni(R)$, and conversely."
      ],
      "metadata": {
        "id": "QnHugGQkaW5G"
      }
    },
    {
      "cell_type": "code",
      "source": [
        "!pip install polytope"
      ],
      "metadata": {
        "colab": {
          "base_uri": "https://localhost:8080/"
        },
        "id": "ev8mFpvzxD2K",
        "outputId": "afd0f87d-ae73-4bfd-da07-cb8242aefdde"
      },
      "execution_count": null,
      "outputs": [
        {
          "output_type": "stream",
          "name": "stdout",
          "text": [
            "Looking in indexes: https://pypi.org/simple, https://us-python.pkg.dev/colab-wheels/public/simple/\n",
            "Collecting polytope\n",
            "  Downloading polytope-0.2.3.tar.gz (51 kB)\n",
            "\u001b[2K     \u001b[90m━━━━━━━━━━━━━━━━━━━━━━━━━━━━━━━━━━━━━━━━\u001b[0m \u001b[32m51.0/51.0 KB\u001b[0m \u001b[31m1.1 MB/s\u001b[0m eta \u001b[36m0:00:00\u001b[0m\n",
            "\u001b[?25h  Preparing metadata (setup.py) ... \u001b[?25l\u001b[?25hdone\n",
            "Requirement already satisfied: numpy>=1.10.0 in /usr/local/lib/python3.8/dist-packages (from polytope) (1.21.6)\n",
            "Requirement already satisfied: scipy>=0.18.0 in /usr/local/lib/python3.8/dist-packages (from polytope) (1.7.3)\n",
            "Requirement already satisfied: networkx>=1.6 in /usr/local/lib/python3.8/dist-packages (from polytope) (3.0)\n",
            "Building wheels for collected packages: polytope\n",
            "  Building wheel for polytope (setup.py) ... \u001b[?25l\u001b[?25hdone\n",
            "  Created wheel for polytope: filename=polytope-0.2.3-py3-none-any.whl size=46059 sha256=c26455e9e6becde1b09b1428322ea38d6c625502f1db33200182aa7dc1e0445c\n",
            "  Stored in directory: /root/.cache/pip/wheels/dc/0b/33/e063a044f930977e4897732d007122648d9db0e50934094040\n",
            "Successfully built polytope\n",
            "Installing collected packages: polytope\n",
            "Successfully installed polytope-0.2.3\n"
          ]
        }
      ]
    },
    {
      "cell_type": "code",
      "source": [
        "import numpy as np\n",
        "import polytope\n",
        "import matplotlib.pyplot as plt\n",
        "\n",
        "vertices = np.array([[3, 7], [10, 7], [8, 2], [5, 3]])\n",
        "poly = polytope.qhull(vertices)  # convex hull\n",
        "    # `poly` is an instance of the class `polytope.polytope.Polytope`,\n",
        "    # which is for representing convex polytopes.\n",
        "    # Nonconvex polytopes can be represented too,\n",
        "    # using the class `polytope.polytope.Region`.\n",
        "print('Halfspace representation of convex polytope:')\n",
        "print('matrix A:')\n",
        "print(poly.A)\n",
        "print('vector b:')\n",
        "print(poly.b)"
      ],
      "metadata": {
        "colab": {
          "base_uri": "https://localhost:8080/"
        },
        "id": "HE82asVRw3on",
        "outputId": "8ea664ed-b0dc-4ad5-a96a-bc921ca4c996"
      },
      "execution_count": null,
      "outputs": [
        {
          "output_type": "stream",
          "name": "stdout",
          "text": [
            "Halfspace representation of convex polytope:\n",
            "matrix A:\n",
            "[[-0.89443 -0.44721]\n",
            " [ 0.       1.     ]\n",
            " [-0.31623 -0.94868]\n",
            " [ 0.92848 -0.37139]]\n",
            "vector b:\n",
            "[-5.81378  7.      -4.42719  6.68503]\n"
          ]
        }
      ]
    },
    {
      "cell_type": "code",
      "source": [
        "poly.plot()\n",
        "plt.xlim(0,12)\n",
        "plt.ylim(0,8)\n",
        "plt.show()"
      ],
      "metadata": {
        "colab": {
          "base_uri": "https://localhost:8080/",
          "height": 269
        },
        "id": "aePYqYqL1PSG",
        "outputId": "332d0d8f-7b4e-41f1-fb5d-1fc5e4335b0f"
      },
      "execution_count": null,
      "outputs": [
        {
          "output_type": "display_data",
          "data": {
            "text/plain": [
              "<Figure size 432x288 with 1 Axes>"
            ],
            "image/png": "[encoded data removed]"
          },
          "metadata": {
            "needs_background": "light"
          }
        }
      ]
    },
    {
      "cell_type": "markdown",
      "source": [
        "#**Trajectory planning**\n",
        "Given convex region defined by linear inequalities $\\{x: A_ix \\leq b_i \\}$ ($H$-representation) find the sequence of $K$ points from the given starting point to the given goal point, such that all of the steps lie in the convex region."
      ],
      "metadata": {
        "id": "UlXPVvpMlPXR"
      }
    },
    {
      "cell_type": "markdown",
      "source": [
        "#**Exercise**\n",
        "You are given three non empty sets:\n",
        "\n",
        "\\begin{equation*}\n",
        "\\begin{aligned}\n",
        "x_{(1)},...,x_{(n)} \\\\\n",
        "y_{(1)},...,y_{(m)} \\\\\n",
        "z_{(1)},...,z_{(p)} \\\\\n",
        "\\end{aligned}\n",
        "\\end{equation*} in $\\mathbb{R}^n$ where you have to find corresponding affine functions in the following form:\n",
        "\\begin{equation}\n",
        "    f_i(\\mu) = a_i^T\\mu -b_i, \\; i=1,2,3, \\; \\mu = x,y,z\n",
        "\\end{equation} subject to the following constraints:\n",
        "\\begin{equation*}\n",
        "\\begin{aligned}\n",
        "\\quad & f_1(x_{(j)}) > max \\{f_2(x_{(j)}), f_3(x_{(j)})\\}, \\; j = 1,...,n\\,\\\\\n",
        "  \\quad & f_2(y_{(j)}) > max \\{f_1(y_{(j)}), f_3(y_{(j)})\\}, \\; j = 1,...,m\\,\\\\\n",
        "  \\quad & f_3(z_{(j)}) > max \\{f_1(z_{(j)}), f_2(z_{(j)})\\}, \\; j = 1,...,p\\,\\\\\n",
        " \\quad & a_1 + a_2 + a_3 = 0, \\\\\n",
        " \\quad & b_1 + b_2 + b_3 = 0 ,\n",
        "\\end{aligned}\n",
        "\\end{equation*}\n",
        "> Use the following script for generating three sets in $\\mathbf{R}^2$ and solve the latter problem using CVXPY"
      ],
      "metadata": {
        "id": "mpmvgAx3fKq9"
      }
    },
    {
      "cell_type": "code",
      "source": [
        "import numpy as np\n",
        "import cvxpy as cp\n",
        "import matplotlib.pyplot as plt\n",
        "import random\n",
        "from random import random\n",
        "import math\n",
        "\n",
        "\n",
        "def clusters(n, points, centers, r):\n",
        "    sets = []\n",
        "    def cluster(points, center, radius):\n",
        "        npoints = 50\n",
        "        r = radius\n",
        "        t = np.linspace(0, 2*np.pi, npoints, endpoint=False)\n",
        "        x = center[0] + r * np.cos(t) + np.random.uniform(-0.2,0.2,t.shape[0])\n",
        "        y = center[1] + r * np.sin(t) + np.random.uniform(-0.2,0.2,t.shape[0])\n",
        "        return np.vstack((x,y))\n",
        "\n",
        "    sets = []\n",
        "    for i in range(n):\n",
        "        set_i = cluster(points, centers[i], r)\n",
        "        sets.append(set_i)\n",
        "    return sets\n",
        "\n",
        "sets = np.array(clusters(3, 100, [(2,2), (4,6), (3, 8)], 1.0))\n",
        "\n",
        "def get_circle(U):\n",
        "    cx = cp.Variable()\n",
        "    cy = cp.Variable()\n",
        "    obj = cp.Minimize(cp.norm(cp.vstack((U[0,:] - cx, U[1,:] - cy))))\n",
        "    prob = cp.Problem(obj, [])\n",
        "    prob.solve()\n",
        "\n",
        "    cx, cy = map(lambda x: x.value, [cx, cy])\n",
        "    xc = np.array([cx, cy])\n",
        "    r_hat = (U.T - xc)\n",
        "    mean_r = np.sum(r_hat * r_hat, axis=1).mean()\n",
        "    r = np.sqrt(mean_r)\n",
        "    return xc, r\n",
        "\n",
        "def draw_circles(sets):\n",
        "    ax = plt.gca()\n",
        "    for set_i in sets:\n",
        "        xc, r = get_circle(set_i)\n",
        "        circle = plt.Circle(xc, r, fill=False)\n",
        "        ax.add_patch(circle)\n",
        "\n",
        "X = sets[0]\n",
        "Y = sets[1]\n",
        "Z = sets[2]\n",
        "\n",
        "a1 = cp.Variable(shape=(2,))\n",
        "b1 = cp.Variable(shape=(1,))\n",
        "a2 = cp.Variable(shape=(2,))\n",
        "b2 = cp.Variable(shape=(1,))\n",
        "a3 = cp.Variable(shape=(2,))\n",
        "b3 = cp.Variable(shape=(1,))\n",
        "\n",
        "constraints = [\n",
        "  a1.T @ X - b1 >= cp.maximum(a2.T @ X - b2,a3.T @ X - b3),\n",
        "  a2.T @ Y - b2 >= cp.maximum(a3.T @ Y - b3,a1.T @ Y - b1),\n",
        "  a3.T @ Z - b3 >= cp.maximum(a1.T @ Z - b1,a2.T @ Z - b2),\n",
        "  a1 + a2 + a3 == 0,\n",
        "  b1 + b2 + b3 == 0\n",
        "]\n",
        "\n",
        "obj = cp.Minimize(0)\n",
        "prob = cp.Problem(obj, constraints)\n",
        "prob.solve()\n",
        "\n",
        "a1,a2,a3,b1,b2,b3 = map(lambda x: x.value,[a1,a2,a3,b1,b2,b3])\n",
        "print(a1,b1)\n",
        "\n",
        "t = np.linspace(-7,7,100*14)\n",
        "u1 = a1-a2; u2 = a2-a3; u3 = a3-a1\n",
        "v1 = b1-b2; v2 = b2-b3; v3 = b3-b1\n",
        "line1 = (-t*u1[0]+v1)/u1[1]\n",
        "idx1 = np.where(u2.dot(np.array([t,line1]))-v2>0)[0]\n",
        "line2 = (-t*u2[0]+v2)/u2[1]\n",
        "idx2 = np.where(u3.dot(np.array([t,line2]))-v3>0)[0]\n",
        "line3 = (-t*u3[0]+v3)/u3[1]\n",
        "idx3 = np.where(u1.dot(np.array([t,line3]))-v1>0)[0]\n",
        "\n",
        "draw_circles(sets)\n",
        "\n",
        "plt.scatter(X[0,:], X[1,:])\n",
        "plt.scatter(Y[0,:], Y[1,:])\n",
        "plt.scatter(Z[0,:], Z[1,:])\n",
        "\n",
        "plt.plot(t[idx1],line1[idx1])\n",
        "plt.plot(t[idx2],line2[idx2])\n",
        "plt.plot(t[idx3],line3[idx3])\n",
        "plt.show()"
      ],
      "metadata": {
        "colab": {
          "base_uri": "https://localhost:8080/",
          "height": 282
        },
        "id": "uq1nw7hefmw6",
        "outputId": "e9aa7dd5-26f8-43ef-8167-52802e50c341"
      },
      "execution_count": null,
      "outputs": [
        {
          "output_type": "stream",
          "name": "stdout",
          "text": [
            "[-0.38721924 -0.81906945] [-5.28905679]\n"
          ]
        },
        {
          "output_type": "display_data",
          "data": {
            "text/plain": [
              "<Figure size 432x288 with 1 Axes>"
            ],
            "image/png": "[encoded data removed]"
          },
          "metadata": {
            "needs_background": "light"
          }
        }
      ]
    },
    {
      "cell_type": "markdown",
      "source": [
        "#**Friction cones**\n",
        " A 2D mass is in contact with a single surface. This contact will remain fixed as long as the contact force $f^c = mg-f^{ext}$ lies within the Coulomb friction cone $C$."
      ],
      "metadata": {
        "id": "5QoTim7Kho11"
      }
    },
    {
      "cell_type": "code",
      "source": [],
      "metadata": {
        "id": "lFm5K9nHNcwu"
      },
      "execution_count": null,
      "outputs": []
    }
  ]
}