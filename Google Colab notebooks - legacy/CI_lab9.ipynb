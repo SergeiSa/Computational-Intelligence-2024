{
  "nbformat": 4,
  "nbformat_minor": 0,
  "metadata": {
    "colab": {
      "provenance": []
    },
    "kernelspec": {
      "name": "python3",
      "display_name": "Python 3"
    },
    "language_info": {
      "name": "python"
    }
  },
  "cells": [
    {
      "cell_type": "markdown",
      "source": [
        "#**Mixed Integer Programming**\n",
        "A mixed integer linear program (MILP, MIP) is of the form\n",
        "\n",
        "\\begin{array}{ll} \\mbox{minimize} & \\mathbf{c^T}\\mathbf{x}\\\\\n",
        "\\mbox{subject to} & \\mathbf{A}\\mathbf{x} \\leq \\mathbf{B}\\\\\n",
        "& \\mathbf{x_i} \\in \\mathcal Z, ∀\\mathbf{i} \\in \\mathcal I\\\\\n",
        "& \\mathbf{x} \\geq 0\n",
        "\\end{array}\n",
        "\n",
        "**Example**\n",
        "\\begin{equation}\n",
        "\\begin{aligned}\n",
        "\\max \\quad & x+y\\\\\n",
        "\\textrm{s.t.} \\quad & -2x+2y \\geq 1\\\\\n",
        " & -8x+10y \\leq 13 \\\\\n",
        " & x,y \\geq 0 \\\\\n",
        " & x,y \\in \\mathcal Z\n",
        "\\end{aligned}\n",
        "\\end{equation}\n",
        "First, try to solve this problem with LP relaxation (by dropping integrality constraints).\n",
        "\n",
        "Then find the optimal solution for Integer problem (when initializing variables put integer=True) and compare the results."
      ],
      "metadata": {
        "id": "UlXPVvpMlPXR"
      }
    },
    {
      "cell_type": "code",
      "source": [
        "import numpy as np\n",
        "import cvxpy as cp\n",
        "\n",
        "x = cp.Variable(1)\n",
        "y = cp.Variable(1)\n",
        "\n",
        "constr = [-2*x+2*y >= 1, x >= 0, y >= 0, -8*x+10*y <= 13]\n",
        "problem = cp.Problem(cp.Minimize(-x-y), constr)\n",
        "problem.solve()\n",
        "print(x.value, y.value)"
      ],
      "metadata": {
        "colab": {
          "base_uri": "https://localhost:8080/"
        },
        "id": "ugxTnz8I2w6h",
        "outputId": "a6eddb3f-af74-4bb6-a75f-696a594fb8ab"
      },
      "execution_count": null,
      "outputs": [
        {
          "output_type": "stream",
          "name": "stdout",
          "text": [
            "[4.] [4.5]\n"
          ]
        }
      ]
    },
    {
      "cell_type": "code",
      "source": [
        "x = cp.Variable(1, integer = True)\n",
        "y = cp.Variable(1, integer = True)\n",
        "\n",
        "constr = [-2*x+2*y >= 1, x >= 0, y >= 0, -8*x+10*y <= 13]\n",
        "problem = cp.Problem(cp.Minimize(-x-y), constr)\n",
        "problem.solve()\n",
        "print(x.value, y.value)"
      ],
      "metadata": {
        "colab": {
          "base_uri": "https://localhost:8080/"
        },
        "id": "drMuhb1ymIim",
        "outputId": "d9cdb887-d062-410d-9a61-cad3f17bb547"
      },
      "execution_count": null,
      "outputs": [
        {
          "output_type": "stream",
          "name": "stdout",
          "text": [
            "[1.] [2.]\n"
          ]
        }
      ]
    },
    {
      "cell_type": "markdown",
      "source": [
        "No direct way of getting from (4, 4.5) to (1, 2) by rounding!\n",
        "\n",
        "\n",
        "Something more elaborate is needed: branch & bound:\n",
        "\n",
        "\n",
        "1.   Assume variables are bounded, i.e., have lower and upper bounds\n",
        "2.   Let $P_0$ be the initial problem, LP($P_0$) be the LP relaxation of $P_0$\n",
        "3.   If in optimal solution of LP($P_0$) all integer variables take integer values then it is also an optimal solution to $P_0$\n",
        "4.   Else\n",
        "  *   Let $x_j$ be integer variable whose value $β_j$ at optimal solution of LP($P_0$) is such that $β_j ∉\\mathcal Z$. Define\n",
        "  $P_1 := P_0 ∧ x_j ≤ ⌊β_j⌋$ and $P_2 :=P_0 ∧ x_j≥⌈β_j⌉$\n",
        "  *   feasibleSols($P_0$) = feasibleSols($P_1$) ∪ feasibleSols($P_2$)\n",
        "  *   Idea: solve $P_1$, solve $P_2$ and then take the best\n",
        "5.   We can build a binary tree of subproblems\n",
        "whose leaves correspond to pending problems still to be solved\n",
        "6.   This procedure terminates as integer vars have finite bounds and, at each split, the domain of $x_j$ becomes strictly smaller\n",
        "7.   If LP($P_i$) has optimal solution where integer variables take integer values then solution is stored\n"
      ],
      "metadata": {
        "id": "PiPZkz_2K_Ub"
      }
    },
    {
      "cell_type": "code",
      "source": [
        "x = cp.Variable(1)\n",
        "y = cp.Variable(1)\n",
        "\n",
        "# Change the constrains using branch and bound method\n",
        "constr = [-2*x+2*y >= 1, x >= 0, y >= 0, -8*x+10*y <= 13, y <= 2, x<=1]\n",
        "problem = cp.Problem(cp.Minimize(-x-y), constr)\n",
        "problem.solve()\n",
        "print(x.value, y.value)"
      ],
      "metadata": {
        "id": "hAIPcls2ZGoU"
      },
      "execution_count": null,
      "outputs": []
    },
    {
      "cell_type": "markdown",
      "source": [
        "#**Footstep planning**\n",
        "Implement footstep planning for a biped, making sure every pair of steps lands in the same H-polytope."
      ],
      "metadata": {
        "id": "K6aC1rl-UnAx"
      }
    },
    {
      "cell_type": "code",
      "source": [],
      "metadata": {
        "id": "lN7SrNmdUngh"
      },
      "execution_count": null,
      "outputs": []
    }
  ]
}