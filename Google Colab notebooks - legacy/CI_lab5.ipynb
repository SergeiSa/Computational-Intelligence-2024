{
  "nbformat": 4,
  "nbformat_minor": 0,
  "metadata": {
    "colab": {
      "provenance": []
    },
    "kernelspec": {
      "name": "python3",
      "display_name": "Python 3"
    },
    "language_info": {
      "name": "python"
    }
  },
  "cells": [
    {
      "cell_type": "markdown",
      "source": [
        "#**SDP**\n",
        "\n",
        "Consider a system $\\mathbf{\\dot{x}} = \\mathbf{A}\\mathbf{x} + \\mathbf{B}\\mathbf{u}$ and a Lyapunov function $V = \\mathbf{x}^\\top\\mathbf{S}\\mathbf{x}$, $\\mathbf{S} \\succ 0$.\n",
        "We need to find a state feedback controller of the form\n",
        "\\begin{equation}\n",
        "\\mathbf{u} = \\mathbf{K}\\mathbf{x}\n",
        "\\end{equation}\n",
        "such that the closed-loop system namely\n",
        "\\begin{equation}\n",
        "\\begin{gathered}\n",
        "\\mathbf{\\dot{x}} = \\mathbf{(A+BK)}\\mathbf{x}\n",
        "\\end{gathered}\n",
        "\\end{equation} is quadratically stable."
      ],
      "metadata": {
        "id": "UlXPVvpMlPXR"
      }
    },
    {
      "cell_type": "code",
      "source": [
        "import numpy as np\n",
        "import cvxpy as cp\n",
        "\n",
        "size_x = 3\n",
        "size_u = 2\n",
        "\n",
        "# A = np.array([[-2.264, 1.5279, -0.9707], [0.47, -1.1007, 0.3038], [-1.726, 1.585, -0.8657]])\n",
        "# B = np.array([[-0.332, 0.4735], [-0.03225, -0.2292], [-0.23256, 0.415154]])\n",
        "\n",
        "A = np.random.randn(size_x, size_x) - 1*np.eye(size_x)\n",
        "B = 0.3*np.random.randn(size_x, size_u)\n",
        "\n",
        "Q = cp.Variable((size_x, size_x), symmetric=True)\n",
        "L = cp.Variable((size_u, size_x))\n",
        "\n",
        "LMI = cp.bmat([[Q @ A.T + A @ Q + L.T @ B.T + B @ L]])\n",
        "\n",
        "constraints = [Q >> 0.0001, LMI << -0.0001]\n",
        "prob = cp.Problem(cp.Minimize(0), constraints=constraints)\n",
        "\n",
        "result = prob.solve(verbose=False)\n",
        "\n",
        "if result < 1:\n",
        "    K = L.value @ np.linalg.pinv(Q.value)\n",
        "    print(\"State feedback controller gain(K):\")\n",
        "    print(K)\n",
        "else:\n",
        "    print(\"no solution\")"
      ],
      "metadata": {
        "colab": {
          "base_uri": "https://localhost:8080/"
        },
        "id": "ugxTnz8I2w6h",
        "outputId": "c881f71e-19cb-4c60-bf68-ea920727f165"
      },
      "execution_count": null,
      "outputs": [
        {
          "output_type": "stream",
          "name": "stdout",
          "text": [
            "State feedback controller gain(K):\n",
            "[[-36.5811282   23.94459714  14.01850969]\n",
            " [-27.78868362  19.32681396   7.98447725]]\n"
          ]
        }
      ]
    },
    {
      "cell_type": "code",
      "source": [
        "Acl = A + B @ K\n",
        "e1, _ = np.linalg.eig(Acl)\n",
        "print(e1)"
      ],
      "metadata": {
        "colab": {
          "base_uri": "https://localhost:8080/"
        },
        "id": "lEp1mXT7NqEY",
        "outputId": "f5817ff5-c7c5-42fa-9067-6a102095af7d"
      },
      "execution_count": null,
      "outputs": [
        {
          "output_type": "stream",
          "name": "stdout",
          "text": [
            "[-7.04211475 -0.64867165 -2.66612442]\n"
          ]
        }
      ]
    },
    {
      "cell_type": "code",
      "source": [
        "from scipy.integrate import odeint\n",
        "import matplotlib.pyplot as plt\n",
        "\n",
        "t0 = 0 # Initial time\n",
        "tf = 100 # Final time\n",
        "N = 2E3 # Numbers of points in time span\n",
        "t = np.linspace(t0, tf, int(N)) # Create time span\n",
        "\n",
        "x_0 = np.random.rand(size_x,)\n",
        "\n",
        "def StateSpace(q, t, A, B, K):\n",
        "    x = q\n",
        "    u = K @ x\n",
        "    ddx = A @ x + B @ u\n",
        "    return ddx\n",
        "\n",
        "x_sol = odeint(StateSpace, x_0, t, args=(A, B, K))\n",
        "plt.plot(t, x_sol, linewidth=0.7)\n",
        "plt.ylabel(r'state(x)')\n",
        "plt.grid(True)\n",
        "plt.xlabel(r'Time $t$ (s)')\n",
        "plt.show()"
      ],
      "metadata": {
        "colab": {
          "base_uri": "https://localhost:8080/",
          "height": 282
        },
        "id": "3d4zG1brgiyX",
        "outputId": "2a109774-861d-4c68-b29d-cbd5fff41856"
      },
      "execution_count": null,
      "outputs": [
        {
          "output_type": "display_data",
          "data": {
            "text/plain": [
              "<Figure size 432x288 with 1 Axes>"
            ],
            "image/png": "[encoded data removed]"
          },
          "metadata": {
            "needs_background": "light"
          }
        }
      ]
    },
    {
      "cell_type": "markdown",
      "source": [
        "#**Robustness**\n",
        "Let us consider the uncertain time-invariant linear system\n",
        "\\begin{equation*}\n",
        "\\dot{x} = (A+\\Delta A)x + (B+\\Delta B)u\n",
        "\\end{equation*}\n",
        "with\n",
        "\\begin{equation*}\n",
        "(\\Delta A \\quad \\Delta B) = F \\Delta (E_1 \\quad E_2),\n",
        "\\end{equation*}\n",
        "where $u \\in \\mathbb{R}^m$ is the control input, and F, E1, and E2 are weighting matrix-valued functions of suitable dimensions. \\\\\n",
        "The uncertain system can be transformed into the LFT form\n",
        "\\begin{equation}\n",
        "\\begin{gathered}\n",
        "\\dot{x} = Ax+F\\omega+Bu,\\\\\n",
        "z=E_1 x +E_2 u,\\\\\n",
        "\\omega = \\Delta z.\n",
        "\\end{gathered}\n",
        "\\end{equation}\n",
        "\n",
        "We need to find a state feedback controller of the form\n",
        "\\begin{equation}\n",
        "u = Kx\n",
        "\\end{equation}\n",
        "such that  that the closed-loop system namely\n",
        "\\begin{equation}\n",
        "\\begin{gathered}\n",
        "\\dot{x} = (A+BK)x+F\\omega,\\\\\n",
        "z=(E_1 +E_2 K) x,\\\\\n",
        "\\omega = \\Delta z.\n",
        "\\end{gathered}\n",
        "\\end{equation}\n",
        "is quadratically stable.\n",
        "\n",
        "**Final LMI**\n",
        "\\begin{equation}\n",
        "\\begin{gathered}\n",
        "\\begin{pmatrix}\n",
        "    QA^T+AQ +L^TB^T+BL & F & Q E_1^T + L^T E_2^T\\\\\n",
        "    F^T & - I & 0\\\\\n",
        "    E_1 Q + E_2 L & 0 & -I\n",
        "\\end{pmatrix}\n",
        "< 0\n",
        "\\end{gathered}\n",
        "\\end{equation}\n",
        "The controller that solves this problem is $K=LQ^{-1}$"
      ],
      "metadata": {
        "id": "sgdxAqQWD4BV"
      }
    },
    {
      "cell_type": "code",
      "source": [
        "import numpy as np\n",
        "import cvxpy as cp\n",
        "\n",
        "np.random.seed(seed=30)\n",
        "\n",
        "size_x = 3\n",
        "size_u = 2\n",
        "\n",
        "A = np.random.randn(size_x, size_x) - 1*np.eye(size_x)\n",
        "B = 0.3*np.random.randn(size_x, size_u)\n",
        "F = 0.3*np.random.randn(size_x, size_u)\n",
        "E1 = 0.3*np.random.randn(size_u, size_x)\n",
        "E2 = 0.3*np.random.randn(size_u, size_u)\n",
        "\n",
        "Q = cp.Variable((size_x, size_x), symmetric=True)\n",
        "L = cp.Variable((size_u, size_x))\n",
        "\n",
        "LMI = cp.bmat([\n",
        "        [Q@A.T + L.T @ B.T + A@Q +B@L, F, Q@E1.T + L.T@E2.T],\n",
        "        [F.T, -np.eye(size_u), np.zeros((size_u,size_u))],\n",
        "        [E1@Q + E2@L, np.zeros((size_u,size_u)), -np.eye(size_u)]\n",
        "          ])\n",
        "\n",
        "constraints = [Q >> 0.0001, LMI << 0]\n",
        "prob = cp.Problem(cp.Minimize(0), constraints=constraints)\n",
        "\n",
        "result = prob.solve()\n",
        "if result < 1:\n",
        "    K = L.value @ np.linalg.pinv(Q.value)\n",
        "    print(\"State feedback controller gain (K):\")\n",
        "    print(K)\n",
        "else:\n",
        "    print(\"no solution\")"
      ],
      "metadata": {
        "id": "GN_uvgtdbdJW"
      },
      "execution_count": null,
      "outputs": []
    },
    {
      "cell_type": "code",
      "source": [
        "# Here we randomize different uncertainties in the system and check the stability\n",
        "stable_systems = 0\n",
        "max_eig = []\n",
        "\n",
        "# Interval of Deltas values\n",
        "delta_min, delta_max = -1, 1\n",
        "numDelta = 1000\n",
        "\n",
        "for i in range(numDelta):\n",
        "    Delta = np.diag((delta_max - delta_min)*np.random.rand(size_u, ) + delta_min)\n",
        "    # Checking eigenvalues to prove stability\n",
        "    Acl = A + B @ K + F @ Delta @ (E1 + E2 @ K)\n",
        "\n",
        "    e1, _ = np.linalg.eig(Acl)\n",
        "    max_eig.append(np.max(e1))\n",
        "\n",
        "    eigNeg = len(list(filter(lambda x: x.real < 0, e1)))\n",
        "    if eigNeg == len(e1):\n",
        "        stable_systems += 1\n",
        "\n",
        "print(\"max eig\")\n",
        "print(np.max(max_eig))\n",
        "print(\"Percentage of stable systems:\", 100*stable_systems/numDelta)"
      ],
      "metadata": {
        "id": "IHh_HHuJbn49"
      },
      "execution_count": null,
      "outputs": []
    },
    {
      "cell_type": "code",
      "source": [],
      "metadata": {
        "id": "ZlRpBHvaborx"
      },
      "execution_count": null,
      "outputs": []
    }
  ]
}