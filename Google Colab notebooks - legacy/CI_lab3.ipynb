{
  "nbformat": 4,
  "nbformat_minor": 0,
  "metadata": {
    "colab": {
      "provenance": []
    },
    "kernelspec": {
      "name": "python3",
      "display_name": "Python 3"
    },
    "language_info": {
      "name": "python"
    }
  },
  "cells": [
    {
      "cell_type": "markdown",
      "source": [
        "#**Quadratic Programming**\n",
        "\n",
        "Concider the following QP problem\n",
        "\\begin{equation}\n",
        "\\begin{aligned}\n",
        "\\min_{x_1,x_2} \\quad & x_1^2 + 2x_2^2 -x_1 -2x_2\\\\\n",
        "\\textrm{s.t.} \\quad & x_1+x_2 = 3\\\\\n",
        "& x_1 \\geq 1\\\\\n",
        "& x_2 \\leq 3\\\\\n",
        "& -x_1 +3x_2 \\geq -1\\\\\n",
        "& x_1+x_2 \\leq 5\n",
        "\\end{aligned}\n",
        "\\end{equation}\n",
        "\n",
        "Find the solution to this problem and plot the feasible region and contour plot(*) of the objective function.\n",
        "\n",
        "> Solution\n",
        "\n",
        "We need to rewrite the quadratic equation in the proper QP form:\n",
        "\\begin{equation}\n",
        "\\begin{aligned}\n",
        "\\min_{x} \\quad & \\frac{1}{2}x^{T}Px + q^Tx \\\\\n",
        "\\textrm{s.t.} \\quad & Gx \\leq h\\\\\n",
        "& Ax =b\n",
        "\\end{aligned}\n",
        "\\end{equation}\n",
        "where\n",
        "\\begin{equation}\n",
        "\\begin{aligned}\n",
        "x = \\begin{bmatrix} x_1 \\\\ x_2 \\end{bmatrix} \\quad\n",
        "P = \\begin{bmatrix} p_{11} & p_{12} \\\\ p_{21} & p_{22} \\end{bmatrix} \\quad\n",
        "q^T = \\begin{bmatrix} q_1 & q_2 \\end{bmatrix}\n",
        "\\end{aligned}\n",
        "\\end{equation}\n",
        "\n",
        "\\begin{equation}\n",
        "\\begin{aligned}\n",
        "P = \\begin{bmatrix} 2 & 0 \\\\ 0 & 4 \\end{bmatrix} \\\\\n",
        "q^T =\n",
        "\\begin{bmatrix} -1 & -2 \\end{bmatrix}\n",
        "\\end{aligned}\n",
        "\\end{equation}\n",
        "\n",
        "The constraint matrices:\n",
        "\n",
        "\\begin{equation}\n",
        "\\begin{aligned}\n",
        "A =\n",
        "\\begin{bmatrix} 1 & 1 \\end{bmatrix} \\\\\n",
        "b=\\begin{bmatrix} 3 \\end{bmatrix}\n",
        "\\end{aligned}\n",
        "\\end{equation}\n",
        "To find matrix $G$ and $h$ first we need to multiply some inequalities by $-1$:\n",
        "\\begin{equation}\n",
        "\\begin{aligned}\n",
        "& -x_1 \\leq -1\\\\\n",
        "& x_2 \\leq 3\\\\\n",
        "& x_1 - 3x_2 \\leq 1\\\\\n",
        "& x_1+x_2 \\leq 5\n",
        "\\end{aligned}\n",
        "\\end{equation}\n",
        "\n",
        "\\begin{equation}\n",
        "\\begin{aligned}\n",
        "G =\n",
        "\\begin{bmatrix} -1 & 0 \\\\ 0 & 1\\\\ 1& -3\\\\1 & 1 \\end{bmatrix} \\\\\n",
        "h=\\begin{bmatrix} -1\\\\3\\\\1\\\\5 \\end{bmatrix}\n",
        "\\end{aligned}\n",
        "\\end{equation}\n",
        "\n",
        "**Code and output**"
      ],
      "metadata": {
        "id": "UlXPVvpMlPXR"
      }
    },
    {
      "cell_type": "code",
      "source": [
        "import cvxpy as cp\n",
        "import numpy as np\n",
        "import matplotlib.pyplot as plt\n",
        "\n",
        "size_x = 2\n",
        "\n",
        "P = np.array([[2, 0], [0, 4]])\n",
        "q = np.array([[-1],[-2]])\n",
        "G = np.array([[-1, 0],[0, 1],[1,-3],[1, 1]])\n",
        "h = np.array([[-1],[3],[1],[5]]).reshape(4,)\n",
        "A = np.array([[1, 1]])\n",
        "b = np.array([3])\n",
        "\n",
        "x = cp.Variable(size_x)\n",
        "\n",
        "prob = cp.Problem(cp.Minimize((1/2)*cp.quad_form(x, P) + q.T @ x),\n",
        "                 [G @ x <= h,\n",
        "                  A @ x == b])\n",
        "prob.solve()\n",
        "# Print result.\n",
        "print(\"\\nThe optimal value is\", prob.value)\n",
        "print(\"A solution x is\")\n",
        "print(x.value)\n",
        "x_opt, y_opt = x.value[0], x.value[1]\n"
      ],
      "metadata": {
        "colab": {
          "base_uri": "https://localhost:8080/"
        },
        "id": "ugxTnz8I2w6h",
        "outputId": "bb81455c-b823-41a1-a909-1d944297501a"
      },
      "execution_count": null,
      "outputs": [
        {
          "output_type": "stream",
          "name": "stdout",
          "text": [
            "\n",
            "The optimal value is 1.9166666666666679\n",
            "A solution x is\n",
            "[1.83333333 1.16666667]\n"
          ]
        }
      ]
    },
    {
      "cell_type": "code",
      "source": [
        "# plot the feasible region\n",
        "d = np.linspace(0, 5, 200)\n",
        "x, y = np.meshgrid(d,d)\n",
        "plt.imshow( ((x>=1) & (y<=3) & (-x+3*y>=-1) & (x+y<=5)).astype(int) ,\n",
        "                extent=(x.min(),x.max(),y.min(),y.max()),origin=\"lower\", cmap=\"Greys\", alpha = 0.3);\n",
        "\n",
        "\n",
        "# plot the lines defining the constraints\n",
        "x = np.linspace(0, 5, 200)\n",
        "\n",
        "# x1 >= 1\n",
        "x1 = x*0+1\n",
        "y1 = np.linspace(0, 5, 200)\n",
        "\n",
        "# x2 <= 3\n",
        "y2 = x*0+3\n",
        "# -x1 +3x2 >= -1\n",
        "y3 = (-1+x)/3\n",
        "# x1 + x2 <=5\n",
        "y4 = 5-x\n",
        "# x1 + x2 = 3\n",
        "y5 = 3-x\n",
        "\n",
        "# Make plot\n",
        "plt.plot(x1, y1, label=r'$x_1 \\geq 1$')\n",
        "plt.plot(x, y2, label=r'$x_2 \\leq 3$')\n",
        "plt.plot(x, y3, label=r'$-x_1 +3x_2 \\geq -1$')\n",
        "plt.plot(x, y4, label=r'$x_1 + x_2 \\leq 5$')\n",
        "plt.plot(x, y5, label=r'$x_1 + x_2 = 3$')\n",
        "plt.plot(x_opt, y_opt, 'bo')\n",
        "plt.xlim(0,5)\n",
        "plt.ylim(0,4)\n",
        "plt.legend(bbox_to_anchor=(1.05, 1), loc=2, borderaxespad=0.)\n",
        "plt.xlabel(r'$x_1$')\n",
        "plt.ylabel(r'$x_2$')\n",
        "plt.show()"
      ],
      "metadata": {
        "colab": {
          "base_uri": "https://localhost:8080/",
          "height": 285
        },
        "id": "3d4zG1brgiyX",
        "outputId": "85eb16c5-905d-4bfb-ed1f-6504ef8335c5"
      },
      "execution_count": null,
      "outputs": [
        {
          "output_type": "display_data",
          "data": {
            "text/plain": [
              "<Figure size 432x288 with 1 Axes>"
            ],
            "image/png": "[encoded data removed]"
          },
          "metadata": {
            "needs_background": "light"
          }
        }
      ]
    },
    {
      "cell_type": "markdown",
      "source": [
        "## **Task 2**\n",
        "The Chebyshev center is the center of the largest ball that can fit within the P\n",
        "\\begin{equation}\n",
        "P = \\{x: a_i^T x \\leq b_i, i = 1,2,...,q\\}\n",
        "\\end{equation}\n",
        "1. Formulate the optimization problem of finding the Chebyshev center\n",
        "\\begin{equation}\n",
        "B = \\{x_c+u: \\Vert u \\Vert_2 \\leq r\\}\n",
        "\\end{equation}\n",
        "where $x_c$ is the center and $u=x-x_c$\n",
        "2. Solve the optimization problem with constraints\n",
        "\\begin{equation}\n",
        "\\begin{aligned}\n",
        "A = \\begin{bmatrix} -1 & -1 \\\\ -0.5 & 1 \\\\ 2 & -1 \\end{bmatrix} \\quad\n",
        "b = \\begin{bmatrix} 1 \\\\ 2 \\\\ 4 \\end{bmatrix}\n",
        "\\end{aligned}\n",
        "\\end{equation}"
      ],
      "metadata": {
        "id": "IfbJHXkJpWge"
      }
    },
    {
      "cell_type": "code",
      "source": [
        "A = np.array([[-1, -1],[-0.5, 1], [2, -1]])\n",
        "b = np.array([[1],[2],[4]])\n",
        "\n",
        "r = cp.Variable(1)\n",
        "x_c = cp.Variable(2)\n",
        "\n",
        "obj = cp.Minimize(-r)\n",
        "prob = cp.Problem(obj,  [ (A[i]@x_c + r*cp.norm2(A[i]))<=b[i] for i in range(A.shape[0])])\n",
        "prob.solve()\n",
        "\n",
        "print(\"Projected ball radius: \\n r: \", r.value)\n",
        "print(\"Center: \\n c: \", x_c.value)\n"
      ],
      "metadata": {
        "colab": {
          "base_uri": "https://localhost:8080/"
        },
        "id": "PsY-ry1HtORS",
        "outputId": "7f75dfe6-3422-4705-f21c-9607e9df2381"
      },
      "execution_count": null,
      "outputs": [
        {
          "output_type": "stream",
          "name": "stdout",
          "text": [
            "Projected ball radius: \n",
            " r:  [1.5289612]\n",
            "Center: \n",
            " c:  [0.58113883 0.58113883]\n"
          ]
        }
      ]
    },
    {
      "cell_type": "code",
      "source": [
        "plt.figure(figsize=(5,5))\n",
        "ax = plt.gca()\n",
        "ax.clear()\n",
        "circle = plt.Circle(x_c.value, r.value, fill=False)\n",
        "ax.add_patch(circle)\n",
        "plt.scatter([x_c.value[0]], [x_c.value[1]], color=\"r\")\n",
        "\n",
        "x = np.linspace(-4, 4, 200)\n",
        "# -x-y <= 1\n",
        "y1 = -x-1\n",
        "# -0.5x+y <= 2\n",
        "y2 = 2+0.5*x\n",
        "# 2x-y <= 4\n",
        "y3 = 2*x-4\n",
        "\n",
        "plt.plot(x, y1)\n",
        "plt.plot(x, y2)\n",
        "plt.plot(x, y3)\n",
        "\n",
        "plt.xlim(-4,4)\n",
        "plt.ylim(-4,4)\n",
        "\n",
        "plt.show()"
      ],
      "metadata": {
        "colab": {
          "base_uri": "https://localhost:8080/",
          "height": 324
        },
        "id": "wRZgTbFGdyu2",
        "outputId": "82f7e908-0da4-4d37-8404-a046c0804496"
      },
      "execution_count": null,
      "outputs": [
        {
          "output_type": "display_data",
          "data": {
            "text/plain": [
              "<Figure size 360x360 with 1 Axes>"
            ],
            "image/png": "[encoded data removed]"
          },
          "metadata": {
            "needs_background": "light"
          }
        }
      ]
    },
    {
      "cell_type": "code",
      "source": [],
      "metadata": {
        "id": "Ni2hA9CBOYhN"
      },
      "execution_count": null,
      "outputs": []
    }
  ]
}